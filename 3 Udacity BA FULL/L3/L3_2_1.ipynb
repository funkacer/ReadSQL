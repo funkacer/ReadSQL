{
 "cells": [
  {
   "cell_type": "code",
   "execution_count": 17,
   "metadata": {},
   "outputs": [],
   "source": [
    "import sqlite3"
   ]
  },
  {
   "cell_type": "code",
   "execution_count": 18,
   "metadata": {},
   "outputs": [],
   "source": [
    "conn = sqlite3.connect(\"pp.dbx\")"
   ]
  },
  {
   "cell_type": "code",
   "execution_count": 35,
   "metadata": {},
   "outputs": [],
   "source": [
    "with conn:\n",
    "    c = conn.cursor()\n",
    "    c.execute(\"select * from sqlite_master where type = 'table'\")\n",
    "    columns = [col[0] for col in c.description]\n",
    "    #data = c.fetchall()\n",
    "    data = []\n",
    "    row = c.fetchone()\n",
    "    while row is not None:\n",
    "        data.append(row)\n",
    "        row = c.fetchone()"
   ]
  },
  {
   "cell_type": "code",
   "execution_count": 36,
   "metadata": {},
   "outputs": [
    {
     "data": {
      "text/plain": [
       "['type', 'name', 'tbl_name', 'rootpage', 'sql']"
      ]
     },
     "execution_count": 36,
     "metadata": {},
     "output_type": "execute_result"
    }
   ],
   "source": [
    "columns"
   ]
  },
  {
   "cell_type": "code",
   "execution_count": 37,
   "metadata": {},
   "outputs": [
    {
     "data": {
      "text/plain": [
       "[('table',\n",
       "  'web_events',\n",
       "  'web_events',\n",
       "  2,\n",
       "  'CREATE TABLE web_events (\\n\\tid integer,\\n\\taccount_id integer,\\n\\toccurred_at timestamp,\\n\\tchannel bpchar\\n)'),\n",
       " ('table',\n",
       "  'sales_reps',\n",
       "  'sales_reps',\n",
       "  92,\n",
       "  'CREATE TABLE sales_reps (\\n\\tid integer,\\n\\tname bpchar,\\n\\tregion_id integer\\n)'),\n",
       " ('table',\n",
       "  'region',\n",
       "  'region',\n",
       "  93,\n",
       "  'CREATE TABLE region (\\n\\tid integer,\\n\\tname bpchar\\n)'),\n",
       " ('table',\n",
       "  'orders',\n",
       "  'orders',\n",
       "  94,\n",
       "  'CREATE TABLE orders (\\n\\tid integer,\\n\\taccount_id integer,\\n\\toccurred_at timestamp,\\n\\tstandard_qty integer,\\n\\tgloss_qty integer,\\n\\tposter_qty integer,\\n\\ttotal integer,\\n\\tstandard_amt_usd numeric(10,2),\\n\\tgloss_amt_usd numeric(10,2),\\n\\tposter_amt_usd numeric(10,2),\\n\\ttotal_amt_usd numeric(10,2)\\n)'),\n",
       " ('table',\n",
       "  'accounts',\n",
       "  'accounts',\n",
       "  221,\n",
       "  'CREATE TABLE accounts (\\n\\tid integer,\\n\\tname bpchar,\\n\\twebsite bpchar,\\n\\tlat numeric(11,8),\\n\\tlong numeric(11,8),\\n\\tprimary_poc bpchar,\\n\\tsales_rep_id integer\\n)')]"
      ]
     },
     "execution_count": 37,
     "metadata": {},
     "output_type": "execute_result"
    }
   ],
   "source": [
    "data"
   ]
  },
  {
   "cell_type": "code",
   "execution_count": 42,
   "metadata": {},
   "outputs": [
    {
     "name": "stdout",
     "output_type": "stream",
     "text": [
      "web_events\n",
      "sales_reps\n",
      "region\n",
      "orders\n",
      "accounts\n"
     ]
    }
   ],
   "source": [
    "for row in data:\n",
    "    print(row[1])"
   ]
  },
  {
   "cell_type": "code",
   "execution_count": 45,
   "metadata": {},
   "outputs": [
    {
     "name": "stdout",
     "output_type": "stream",
     "text": [
      "Select * from web_events;\n",
      "Select * from sales_reps;\n",
      "Select * from region;\n",
      "Select * from orders;\n",
      "Select * from accounts;\n"
     ]
    }
   ],
   "source": [
    "for row in data:\n",
    "    print(f\"Select * from {row[1]};\")"
   ]
  },
  {
   "cell_type": "code",
   "execution_count": null,
   "metadata": {},
   "outputs": [],
   "source": []
  }
 ],
 "metadata": {
  "kernelspec": {
   "display_name": "Python 3",
   "language": "python",
   "name": "python3"
  },
  "language_info": {
   "codemirror_mode": {
    "name": "ipython",
    "version": 3
   },
   "file_extension": ".py",
   "mimetype": "text/x-python",
   "name": "python",
   "nbconvert_exporter": "python",
   "pygments_lexer": "ipython3",
   "version": "3.8.6"
  }
 },
 "nbformat": 4,
 "nbformat_minor": 4
}
